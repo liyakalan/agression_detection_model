{
  "nbformat": 4,
  "nbformat_minor": 0,
  "metadata": {
    "colab": {
      "name": "abusive-speech-detection.ipynb",
      "provenance": [],
      "collapsed_sections": [],
      "authorship_tag": "ABX9TyOChhLuHEEFESvwW56gF2Dw",
      "include_colab_link": true
    },
    "kernelspec": {
      "name": "python3",
      "display_name": "Python 3"
    },
    "language_info": {
      "name": "python"
    }
  },
  "cells": [
    {
      "cell_type": "markdown",
      "metadata": {
        "id": "view-in-github",
        "colab_type": "text"
      },
      "source": [
        "<a href=\"https://colab.research.google.com/github/hate-speech-classification/abusive-level-classification/blob/loocv/abusive_speech_detection.ipynb\" target=\"_parent\"><img src=\"https://colab.research.google.com/assets/colab-badge.svg\" alt=\"Open In Colab\"/></a>"
      ]
    },
    {
      "cell_type": "code",
      "execution_count": 11,
      "metadata": {
        "colab": {
          "base_uri": "https://localhost:8080/"
        },
        "id": "sLBHplZdXhe_",
        "outputId": "6d3a20fa-51d0-4fb3-e15d-d72fbcc5b07f"
      },
      "outputs": [
        {
          "output_type": "stream",
          "name": "stdout",
          "text": [
            "[nltk_data] Downloading package stopwords to /root/nltk_data...\n",
            "[nltk_data]   Package stopwords is already up-to-date!\n"
          ]
        }
      ],
      "source": [
        "\"\"\"\n",
        "Init\n",
        "\"\"\"\n",
        "import logging\n",
        "import pandas as pd\n",
        "import numpy as np\n",
        "from numpy import random\n",
        "import gensim\n",
        "import nltk\n",
        "from sklearn.model_selection import train_test_split\n",
        "from sklearn.feature_extraction.text import CountVectorizer, TfidfVectorizer\n",
        "from sklearn.metrics import accuracy_score, confusion_matrix\n",
        "import matplotlib.pyplot as plt\n",
        "nltk.download('stopwords')\n",
        "from nltk.corpus import stopwords\n",
        "import re\n",
        "from bs4 import BeautifulSoup\n",
        "%matplotlib inline\n",
        "# Import necessary modules\n",
        "from sklearn.model_selection import train_test_split\n",
        "from sklearn.metrics import mean_squared_error\n",
        "from math import sqrt\n",
        "from sklearn import model_selection\n",
        "from sklearn.linear_model import LogisticRegression\n",
        "from sklearn.model_selection import KFold\n",
        "from sklearn.model_selection import LeaveOneOut\n",
        "from sklearn.model_selection import LeavePOut\n",
        "from sklearn.model_selection import ShuffleSplit\n",
        "from sklearn.model_selection import StratifiedKFold"
      ]
    },
    {
      "cell_type": "code",
      "source": [
        "\"\"\"\n",
        "Read data from csv (url from github)\n",
        "\"\"\"\n",
        "url_train_data = 'https://raw.githubusercontent.com/amandacurry/convabuse/main/2_splits/ConvAbuseEMNLPtrain.csv'\n",
        "df = pd.read_csv(url_train_data)\n",
        "\n",
        "\"\"\"\n",
        "Create new column labels\n",
        "\"\"\"\n",
        "def categorise(row):\n",
        "  if row['Annotator1_is_abuse.1'] == '1':\n",
        "    return 'Not abusive'\n",
        "  elif row['Annotator1_is_abuse.0'] == '1':\n",
        "    return \"Ambiguous\"\n",
        "  elif row['Annotator1_is_abuse.-1'] == '1':\n",
        "    return \"Mildly abusive\"\n",
        "  elif row['Annotator1_is_abuse.-2'] == '1':\n",
        "    return \"Strongly abusive\"\n",
        "  elif row['Annotator1_is_abuse.-3'] == '1':\n",
        "    return \"Very strongly abusive\"\n",
        "\n",
        "my_tags = ['Not abusive', 'Ambiguous', 'Midly abusive', 'Strongly abusive', 'Very strongly abusive']\n",
        "df['abusive_level'] = df.apply(lambda row: categorise(row), axis=1) \n",
        "df = df[pd.notnull(df['abusive_level'])]\n",
        "# df.tail(10)"
      ],
      "metadata": {
        "id": "fDjqnPHcXs4I"
      },
      "execution_count": 12,
      "outputs": []
    },
    {
      "cell_type": "code",
      "source": [
        "\"\"\"\n",
        "Clean text (user column)\n",
        "\"\"\"\n",
        "REPLACE_BY_SPACE_RE = re.compile('[/(){}\\[\\]\\|@,;]')\n",
        "BAD_SYMBOLS_RE = re.compile('[^0-9a-z #+_]')\n",
        "STOPWORDS = set(stopwords.words('english'))\n",
        "\n",
        "def clean_text(text):\n",
        "    \"\"\"\n",
        "        text: a string\n",
        "        \n",
        "        return: modified initial string\n",
        "    \"\"\"\n",
        "    text = BeautifulSoup(text, \"lxml\").text # HTML decoding\n",
        "    text = text.lower() # lowercase text\n",
        "    text = REPLACE_BY_SPACE_RE.sub(' ', text) # replace REPLACE_BY_SPACE_RE symbols by space in text\n",
        "    text = BAD_SYMBOLS_RE.sub('', text) # delete symbols which are in BAD_SYMBOLS_RE from text\n",
        "    text = ' '.join(word for word in text.split() if word not in STOPWORDS) # delete stopwors from text\n",
        "    return text\n",
        "    \n",
        "df['user'] = df['user'].apply(clean_text)\n",
        "data = df[['user','abusive_level']]\n",
        "X = data.user\n",
        "Y = data.abusive_level\n",
        "# LOOCV\n",
        "loocv = model_selection.LeaveOneOut()"
      ],
      "metadata": {
        "id": "RuBvcSA-e3YU"
      },
      "execution_count": 13,
      "outputs": []
    },
    {
      "cell_type": "code",
      "source": [
        "\"\"\"\n",
        "Naive Bayes Classifier \n",
        "Idea: text is categorized based on TF*IDF (term frequency * inverse data frequency)\n",
        "\"\"\"\n",
        "\n",
        "from sklearn.naive_bayes import MultinomialNB\n",
        "from sklearn.pipeline import Pipeline\n",
        "from sklearn.feature_extraction.text import TfidfTransformer\n",
        "\n",
        "nb = Pipeline([('vect', CountVectorizer()),\n",
        "               ('tfidf', TfidfTransformer()),\n",
        "               ('clf', MultinomialNB()),\n",
        "              ])\n",
        "nb.fit(X, Y)\n",
        "\n",
        "# %%time\n",
        "from sklearn.metrics import classification_report\n",
        "\n",
        "results_kfold = model_selection.cross_val_score(nb, X, Y, cv=loocv)\n",
        "print(\"Accuracy: %.2f%%\" % (results_kfold.mean()*100.0)) \n"
      ],
      "metadata": {
        "colab": {
          "base_uri": "https://localhost:8080/"
        },
        "id": "Q-jOeX_2tncl",
        "outputId": "9709d7dd-b788-4211-bc2f-4337a0de401f"
      },
      "execution_count": 14,
      "outputs": [
        {
          "output_type": "stream",
          "name": "stdout",
          "text": [
            "Accuracy: 78.94%\n"
          ]
        }
      ]
    },
    {
      "cell_type": "code",
      "source": [
        "\"\"\"\n",
        "Linear Support Vector Machine\n",
        "Idea: text is categorized based on TF*IDF (term frequency * inverse data frequency)\n",
        "\"\"\"\n",
        "\n",
        "from sklearn.linear_model import SGDClassifier\n",
        "\n",
        "sgd = Pipeline([('vect', CountVectorizer()),\n",
        "                ('tfidf', TfidfTransformer()),\n",
        "                ('clf', SGDClassifier(loss='hinge', penalty='l2',alpha=1e-3, random_state=42, max_iter=5, tol=None)),\n",
        "               ])\n",
        "sgd.fit(X, Y)\n",
        "\n",
        "# %%time\n",
        "results_kfold = model_selection.cross_val_score(sgd, X, Y, cv=loocv)\n",
        "print(\"Accuracy: %.2f%%\" % (results_kfold.mean()*100.0))  "
      ],
      "metadata": {
        "colab": {
          "base_uri": "https://localhost:8080/"
        },
        "id": "xejOTK2HwSPe",
        "outputId": "972a3af9-3d0c-45b8-990c-b1ae4e22123f"
      },
      "execution_count": 15,
      "outputs": [
        {
          "output_type": "stream",
          "name": "stdout",
          "text": [
            "Accuracy: 81.83%\n"
          ]
        }
      ]
    },
    {
      "cell_type": "code",
      "source": [
        "\"\"\"\n",
        "Logistic Regression\n",
        "Idea: text is categorized based on TF*IDF (term frequency * inverse data frequency)\n",
        "\"\"\"\n",
        "\n",
        "\n",
        "from sklearn.linear_model import LogisticRegression\n",
        "\n",
        "logreg = Pipeline([('vect', CountVectorizer()),\n",
        "                ('tfidf', TfidfTransformer()),\n",
        "                ('clf', LogisticRegression(n_jobs=1, C=1e5, max_iter=100000)),\n",
        "               ])\n",
        "logreg.fit(X, Y)\n",
        "\n",
        "# %%time\n",
        "results_kfold = model_selection.cross_val_score(logreg, X, Y, cv=loocv)\n",
        "print(\"Accuracy: %.2f%%\" % (results_kfold.mean()*100.0)) "
      ],
      "metadata": {
        "colab": {
          "base_uri": "https://localhost:8080/"
        },
        "id": "MsjGQf4vwXvk",
        "outputId": "4b1fbb9f-3b24-4b45-80c3-32128c4027b9"
      },
      "execution_count": 16,
      "outputs": [
        {
          "output_type": "stream",
          "name": "stdout",
          "text": [
            "Accuracy: 79.58%\n"
          ]
        }
      ]
    }
  ]
}